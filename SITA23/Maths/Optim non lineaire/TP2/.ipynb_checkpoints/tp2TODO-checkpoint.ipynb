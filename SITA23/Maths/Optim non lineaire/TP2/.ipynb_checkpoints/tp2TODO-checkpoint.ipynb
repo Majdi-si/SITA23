{
 "cells": [
  {
   "cell_type": "markdown",
   "metadata": {},
   "source": [
    "                                           /!\\ - Important /!\\\n",
    "    - Lorsque il est demandé de compéter un code : les lignes à compléter sont indiqués par \"TODO\" \n",
    "    - Lorsque une question implique une réponse rédigée vous pouvez écrire directement dans la cellule correspondante. \n",
    "    - Télécharger les fichiers contenant les données et les placer dans le même répertoire que le fichier .ipynb\n",
    "    - A la fin de la séance déposez votre travail sur la page e-campus du cours en un seul fichier nommé : nom.ipynb \n",
    "\n",
    "    "
   ]
  },
  {
   "cell_type": "markdown",
   "metadata": {},
   "source": [
    "# Le problème à résoudre : sa modélisation et son étude théorique \n",
    "\n",
    "Le but de ce premier exercice est de se familiariser avec un logiciel d'optimisation pour résudre un problème\n",
    "d’optimisation avec contraintes.  Vu le temps imparti, on considérera le petit exemple quit suit, même\n",
    "si ce problème peut se resoudre graphiquement (comme on le verra à la fin), vu sa petite dimension\n",
    "(2 variables de décision).\n",
    "L'entreprise  Swisscom  voudrait  installer  une  antenne  pour  connecter  quatre  nouveaux  clients  im-\n",
    "portants  à  son  réseau.  Cette  antenne  doit  se  trouver  le  plus  près  possible  de  chaque  client,  en  donnant  la  priorité  aux  meilleurs  d’entre  eux.   Cependant  afin  d’éviter  les  proliférations  d’antennes  de télécommunication, il lui est interdit d’installer cette nouvelle antenne à une distance inférieure à  10 km  des  deux  autres,  situees  respectivement  aux  coordonnées (-5,10)  et  (5,0).   Les  coordonnées  sont exprimees en kilomètres à partir du siège de Swisscom.  Pour chaque client, Swisscom connaît sa situation geographique, ainsi que le nombre d’heures de communications que le client compte utiliser par\n",
    "mois.\n",
    "Pour  simplifier  le  problème  on  supposera  que  Swisscom  cherche  à  installer  l’antenne  à  un  endroit\n",
    "qui  minimisera  la  fonction-objectif suivante  :   la  somme  des éloignements de  chaque  client,  en\n",
    "ponderant chacun des ces éloignements proportionnellement au nombre mensuel d’heures que le client compte  utiliser.  L'éloignement  d’un  client  est  défini  comme étant  carre  de  la  distance  du  client  à la nouvelle antenne.  On a ainsi une fonction-objectif differentiable. On  on considère avoir à  notre disposition deux fichiers :\n",
    "- clients.txt qui contient un tableau où la $i$ ième ligne contient les coordonnées geographiques $(x_i^c,y_i^c)$ (colonnes 1 et 2) et le nombre d’heures $h_i^c$ de communication (colonne 3) du $i$ ième client\n",
    "-  antennes.txt qui contient un tableau où la $i$ ième ligne contient les coordonnées géographiques $(x_i^a,y_i^a)$ (colonnes  1  et  2)  de  la $i$ième ancienne  antenne,  suivi  (colonne  3)  de  la  distance  minimale $d_i^a$ autorisée à cette\n",
    "$i$ ième ancienne antenne.\n",
    "\n",
    "Nous avons vu dans un exercice analogue  que le problème se formule comme :\n",
    " \n",
    "\n",
    "\n",
    "\\begin{array}{lll}\\tag{$P$}\n",
    "\\min         & f(x,y):=\\frac{1}{\\sum_{i =1}^{nb_{clients}}h_i^c}\\displaystyle\\sum_{i =1}^{nb_{clients}} h^c_i  \\left((x-x^c_i)^2+(y-y^c_i)^2\\right) &\\\\\n",
    "\\mbox{s.c.}  & g_i(x,y):=(d_i^a)^2 -  (x-x_i^a)^2-(y-y_i^a)^2\\leq 0, \\qquad \\forall i =1\\dots, nb_{antennes} &\\\\\\ \n",
    "\\end{array}  "
   ]
  },
  {
   "cell_type": "code",
   "execution_count": 93,
   "metadata": {},
   "outputs": [],
   "source": [
    "import numpy as np\n",
    "import matplotlib.pyplot as plt\n",
    "from scipy.optimize import minimize"
   ]
  },
  {
   "cell_type": "code",
   "execution_count": 71,
   "metadata": {},
   "outputs": [],
   "source": [
    "clients = np.genfromtxt('clients.txt')\n",
    "cx = clients[:,0]\n",
    "cy = clients[:,1]\n",
    "ch = clients[:,2]\n",
    "antennes = np.genfromtxt('antennes.txt')\n",
    "ax = antennes[:,0]\n",
    "ay = antennes[:,1]\n",
    "ad = antennes[:,2]\n",
    "        "
   ]
  },
  {
   "cell_type": "markdown",
   "metadata": {},
   "source": [
    "\"A la main\" :\n",
    "- Vérifier que la fonction-objectif $f$ est strictement convexe.\n",
    "- Vérifier que la fonction-objectif est coercive.\n",
    "- Montrer que le problème admet au moins un minimum global"
   ]
  },
  {
   "cell_type": "markdown",
   "metadata": {},
   "source": [
    "Définissons toutes les fonctions qui  interviennent dans le problème d'optimisation ainsi que leur gradient. "
   ]
  },
  {
   "cell_type": "code",
   "execution_count": 72,
   "metadata": {},
   "outputs": [],
   "source": [
    "def distSq(x,y):\n",
    "    '''carre distance euclidienne pour calculer l'éloignement '''\n",
    "    return  ((x[0]-y[0])**2+(x[1]-y[1])**2)\n",
    "\n",
    "def fobj(x):\n",
    "    return (1/np.sum(ch))*sum(np.array([bh*distSq(x, np.array([bx,by])) for [bx,by,bh] in  clients]))\n",
    "\n",
    "\n",
    "\n",
    "def gradFobj(x):     \n",
    "    return (2/np.sum(ch))*np.array([ sum(ch*(x[0]-cx)), sum(ch*(x[1]-cy)) ])\n",
    "\n",
    "def g(x,i):\n",
    "    return  ad[i]**2 -distSq(x, np.array([ax[i], ay[i]])) \n",
    "\n",
    "\n",
    "def gradG(x, i):\n",
    "    return -np.array([2*(x[0]-ax[i]), 2*(x[1]- ay[i])])\n",
    "\n"
   ]
  },
  {
   "cell_type": "markdown",
   "metadata": {},
   "source": [
    "et pour visualiser les choses on définit cette fonction"
   ]
  },
  {
   "cell_type": "code",
   "execution_count": 73,
   "metadata": {},
   "outputs": [],
   "source": [
    "def display():\n",
    "    plt.figure(figsize = (12,12))\n",
    "    ''' Affichage des clients, des antennes, des contraintes et     des lignes de niveaux de la fonction objective'''\n",
    "    plt.plot(cx,cy, '*', label = 'Clients')\n",
    "    plt.plot(ax,ay,'.', label = 'Anciennes antennes')\n",
    "    x, y = np.meshgrid(np.linspace(-22,22,401), np.linspace(-22,22,401))\n",
    "    #ligne de niveau de la fct-obj\n",
    "    z = fobj([x,y])\n",
    "    level = np.linspace(0, 3000, 35)\n",
    "    #level = np.concatenate((level, np.array([ self.objfun(sol_sousc)])),\n",
    "    #                       axis =1)\n",
    "    lignes_niv = plt.contour(x,y,z,level)\n",
    "    plt.clabel(lignes_niv, inline=1, fontsize=7)\n",
    "        \n",
    "     #ligne g_i(x)=0 : limite des contraintes\n",
    "    for j in range(0,len(ax)):\n",
    "        plt.contour(x,y,g([x,y],j), np.array([0]),colors='red')\n"
   ]
  },
  {
   "cell_type": "code",
   "execution_count": null,
   "metadata": {},
   "outputs": [],
   "source": [
    "display()\n",
    "plt.legend()"
   ]
  },
  {
   "cell_type": "markdown",
   "metadata": {},
   "source": [
    "# Résolution par la fonction minimize (BFGS et SLSQP)"
   ]
  },
  {
   "cell_type": "markdown",
   "metadata": {},
   "source": [
    "Utiliser  l’algorithme  BFGS pour  minimiser  la  fonction-objectif  $f$ sur $\\mathbb{R}^2$ (c'est-à-dire sans prendre en compte les contraintes). Indication : consultez\n",
    "https://docs.scipy.org/doc/scipy/reference/generated/scipy.optimize.minimize.html "
   ]
  },
  {
   "cell_type": "code",
   "execution_count": null,
   "metadata": {},
   "outputs": [],
   "source": [
    "### Minimisation sans contrainte  ########## \n",
    "x0=np.array([0,0])\n",
    "res= TODO\n",
    "sol_sansc = res.x\n",
    "print('Position  antenne (sans contraintes) : '+str(sol_sansc))\n",
    "display()\n",
    "plt.plot(sol_sansc[0],sol_sansc[1],'o', label ='position antenne (sans c.)')\n",
    "plt.legend()"
   ]
  },
  {
   "cell_type": "markdown",
   "metadata": {},
   "source": [
    "Choisir comme point du depart $x_0= (-16,-20)$ et utiliser la méthode SLSQP pour résoudre le problème avec contraintes (complétez l'appel à la fonction minimize).\n",
    "Indication : consultez\n",
    "https://docs.scipy.org/doc/scipy/reference/generated/scipy.optimize.minimize.html \n",
    "\n",
    "Vérifier graphiquement et algébriquement (\"sous python\") que les conditions de KKT sont bien satisfaites.  Calculer les multiplicateurs de Lagrange"
   ]
  },
  {
   "cell_type": "code",
   "execution_count": null,
   "metadata": {},
   "outputs": [],
   "source": [
    "\n",
    "#### Minimisation sous contraintes ########## \n",
    "x0=np.array([-16,-20])\n",
    "#x0=np.array([1,10])\n",
    "\n",
    "\n",
    "\n",
    "res= minimize(fobj,x0,method='SLSQP',  constraints=TODO,  options={'disp': True})\n",
    "sol_sousc = res.x\n",
    "\n",
    "\n",
    "print('Position   antenne (sous contraintes) : '+str(sol_sousc))\n",
    "display()\n",
    "plt.plot(sol_sansc[0],sol_sansc[1],'o', label ='position antenne (sans c.)')\n",
    "plt.plot(sol_sousc[0],sol_sousc[1],'o', label ='position antenne (sous c.)')\n",
    "plt.legend()"
   ]
  },
  {
   "cell_type": "code",
   "execution_count": null,
   "metadata": {},
   "outputs": [],
   "source": [
    "#### Calcul des multiplicateurs ########## \n",
    "mu = "
   ]
  },
  {
   "cell_type": "markdown",
   "metadata": {},
   "source": [
    "Reprendre la question précédente en partant du point $x_0=(1,10).$\n",
    "\n",
    "Commenter  les  résultats  trouvés.   Ces  résultats  semblent  contredire  des  résultats  que  nous\n",
    "avons demontré en cours (lesquels ?)"
   ]
  },
  {
   "cell_type": "markdown",
   "metadata": {},
   "source": [
    "# Résolution par pénalisation \n",
    "\n",
    "Approchons maintenant le problème (1) par le problème sans contraintes suivant\n",
    "\\begin{equation}\\tag{$P_r$}\n",
    "\\min_{x\\in \\mathbb{R}^2} f_r(x,y)= f(x)+r\\displaystyle\\sum_{i=1}^{nb_{antennes}} \\max(g_i(x,y),0)^2\n",
    "\\end{equation}\n",
    "où $r>0$ est une pénalité. En utilisant la méthode BFGS résoudre le problème ($P_r$) pour différents valeurs de $p \\in\\{0.001, 0.01, 0.1,1\\}.$ Prendre comme point de départ $x_0=(0,0).$ Commentez le résultats.\n",
    "\n",
    "Il s'agit de compléter les deux fonctions suivantes puis de faire appel à la méthode BFGS de minimize"
   ]
  },
  {
   "cell_type": "code",
   "execution_count": 81,
   "metadata": {},
   "outputs": [],
   "source": [
    "# \n",
    "def fr(x,r):\n",
    "    return TODO\n",
    "\n",
    "def gradfr(x,r):\n",
    "    return TODO"
   ]
  },
  {
   "cell_type": "code",
   "execution_count": null,
   "metadata": {},
   "outputs": [],
   "source": [
    "r =0.001\n",
    "x0=np.array([0,0])\n",
    "res= TOODO\n",
    "print(res.x)\n",
    "\n",
    "display()\n",
    "plt.plot(sol_sansc[0],sol_sansc[1],'o', label ='position antenne (sans c.)')\n",
    "plt.plot(res.x[0],res.x[1],'o', label ='position nvelle antenne')\n",
    "plt.legend()"
   ]
  },
  {
   "cell_type": "markdown",
   "metadata": {},
   "source": [
    "# Résolution par l'algorithme du gradient projeté\n",
    "\n",
    "On suppose  maintenant que l'entreprise a réussi à obtenir une dérogation  lui permettant d'installer la nouvelle antenne proche de son siège, plus précisément dans la zone   $||(x,y)||_{\\infty}\\leq d$, où $d>0$. Pour rappel $||(x,y)||_{\\infty}=\\max(|x|,|y|)$. L'entreprise cherche donc à résoudre le nouveau problème \n",
    "\n",
    "\\begin{array}{lll}\\tag{$P'$}\n",
    "\\min         & f(x,y):=\\frac{1}{\\sum_{i =1}^{nb_{clients}} h^c_i}   \\displaystyle\\sum_{i =1}^{nb_{clients}} h^c_i  \\left((x-x^c_i)^2+(y-y^c_i)^2 \\right)&\\\\\n",
    "\\mbox{s.c.}  &  (x,y) \\in K:=\\{(x,y)\\in \\mathbb{R}^2 \\quad t.q.\\qquad||(x,y)||_{\\infty}\\leq d\\}  &\\\\\\ \n",
    "\\end{array}  \n",
    "\n",
    "Jusifier le fait que $(P')$ possède un unique minimiseur local qui est aussi global.\n",
    "\n",
    "Résoudre ce problème en utilisant SLSQP pour $d=6.5$. Utiliser $x_0=(0,0)$ comme point de départ. "
   ]
  },
  {
   "cell_type": "code",
   "execution_count": null,
   "metadata": {},
   "outputs": [],
   "source": [
    "d=6.5\n",
    "x0=np.array([0,0])\n",
    "\n",
    "cons = TODO\n",
    "\n",
    "res=  TODO\n",
    "\n",
    "print(res.x)"
   ]
  },
  {
   "cell_type": "markdown",
   "metadata": {},
   "source": [
    "La forme de $K$ étant simple on peut utiliser l'algorithme de gradient projeté pour le résoudre. Il est en effet facile de définir $\\mbox{proj}_K(x,y)$ qui à un point $(x,y)\\in \\mathbb{R}^2$ associe sa projection orthogonale sur $K$ (définie par $ \\mbox{proj}_K(x,y)= \\min_{(a,b)\\in K} ||(x-a,y-b)||_2$).\n",
    "\n",
    "Complétez la fonction python suivante. "
   ]
  },
  {
   "cell_type": "code",
   "execution_count": 84,
   "metadata": {},
   "outputs": [],
   "source": [
    "def projK(x):\n",
    "    return TODO\n",
    "\n"
   ]
  },
  {
   "cell_type": "markdown",
   "metadata": {},
   "source": [
    "Complétez l'algorithme de gradient projeté suivant. On utilisera la stratégie de pas constant pour la recherche du pas.  Comme critère d'arrêt utiliser nombre maximal d'itération ou $\\|x_{k+1}-x_k\\|\\leq \\varepsilon$"
   ]
  },
  {
   "cell_type": "code",
   "execution_count": 89,
   "metadata": {},
   "outputs": [],
   "source": [
    "def algoGradientProj(f,gradf,x0, pas, epsilon, nIterMax):\n",
    "    ''' Algo de GRADIENT PROJETE\n",
    "    - f                   une fonction : R^2 -> R\n",
    "    - gradf               la fonction gradient  : R^2 -> R^2\n",
    "    - x0                  point de depart : np.array : R^2\n",
    "    - pas                 la valeur du pas   constant\n",
    "    - espsilon, nIterMax  pour les criteres d'arrets\n",
    "     Sorties :  \n",
    "    -xk  :            vecteur solution optimal\n",
    "    -X =[x0,....xk] :  liste qui contient les iteres xk\n",
    "    '''\n",
    "    k=0\n",
    "    xk=x0\n",
    "    X=[xk]  # stocke les iteres xk\n",
    "    gradk=gradf(xk)\n",
    "    encore = True\n",
    "    while(TODO): \n",
    "        #Calculer la direction\n",
    "        dk = -gradk  \n",
    "        #calculer le pas \n",
    "        pk= pas\n",
    "        #calculer le prochain itere\n",
    "        k=k+1\n",
    "        TODO \n",
    "        .\n",
    "        .\n",
    "        .\n",
    "        TODO        \n",
    "    return xk, X"
   ]
  },
  {
   "cell_type": "markdown",
   "metadata": {},
   "source": [
    "Appliquer l'algorithme de gradient projeté pour résoudre $P'$.  Vérifiez en utilisant KKT qu'il s'agit bien de la solution optimale."
   ]
  },
  {
   "cell_type": "code",
   "execution_count": null,
   "metadata": {},
   "outputs": [],
   "source": [
    "x0= \n",
    "pas = 0.01\n",
    "epsilon = 1e-7\n",
    "nIterMax= 4000\n",
    "\n",
    "xk, X= TODO\n",
    "\n",
    "print(xk)\n",
    "print(gradFobj(xk))"
   ]
  },
  {
   "cell_type": "code",
   "execution_count": 91,
   "metadata": {},
   "outputs": [],
   "source": [
    "def displayBis():\n",
    "    #affichage du nouveau probleme\n",
    "    plt.figure(figsize = (12,12))\n",
    "    ''' Affichage des clients, des antennes, des contraintes et     des lignes de niveaux de la fonction objective'''\n",
    "    plt.plot(cx,cy, '*', label = 'Clients')\n",
    "    plt.plot(ax,ay,'.', label = 'Anciennes antennes')\n",
    "    x, y = np.meshgrid(np.linspace(-22,22,401), np.linspace(-22,22,401))\n",
    "    #ligne de niveau de la fct-obj\n",
    "    z = fobj([x,y])\n",
    "    level = np.linspace(0, 3000, 35)\n",
    "    #level = np.concatenate((level, np.array([ self.objfun(sol_sousc)])),\n",
    "    #                       axis =1)\n",
    "    lignes_niv = plt.contour(x,y,z,level)\n",
    "    plt.clabel(lignes_niv, inline=1, fontsize=7)\n",
    "        \n",
    "     #ligne g_i(x)=0 : limite des contraintes\n",
    "     #pour tracer la frontiere de K\n",
    "    ls = np.linspace(-d, d,3)\n",
    "    plt.plot(ls-ls+d,ls,color='red')\n",
    "    plt.plot(ls-ls-d,ls,color='red')\n",
    "    plt.plot(ls,ls-ls+d,color='red')\n",
    "    plt.plot(ls,ls-ls-d,color='red')\n"
   ]
  },
  {
   "cell_type": "code",
   "execution_count": null,
   "metadata": {},
   "outputs": [],
   "source": [
    "displayBis()\n",
    "\n",
    "plt.plot(sol_sansc[0],sol_sansc[1],'o', label ='position antenne (sans c.)')\n",
    "#plt.plot(res.x[0],res.x[1],'o', label ='new')\n",
    "plt.plot(xk[0],xk[1],'o', label = 'position antenne (sous new c.)')\n",
    "\n",
    "plt.legend()"
   ]
  }
 ],
 "metadata": {
  "kernelspec": {
   "display_name": "Python 3",
   "language": "python",
   "name": "python3"
  },
  "language_info": {
   "codemirror_mode": {
    "name": "ipython",
    "version": 3
   },
   "file_extension": ".py",
   "mimetype": "text/x-python",
   "name": "python",
   "nbconvert_exporter": "python",
   "pygments_lexer": "ipython3",
   "version": "3.8.3"
  }
 },
 "nbformat": 4,
 "nbformat_minor": 4
}
